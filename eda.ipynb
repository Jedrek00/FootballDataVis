{
 "cells": [
  {
   "cell_type": "code",
   "execution_count": null,
   "metadata": {},
   "outputs": [],
   "source": [
    "import json\n",
    "import re\n",
    "import pandas as pd\n",
    "import numpy as np\n",
    "import matplotlib.pyplot as plt\n",
    "import matplotlib as mpl"
   ]
  },
  {
   "cell_type": "code",
   "execution_count": null,
   "metadata": {},
   "outputs": [],
   "source": [
    "pd.set_option('display.max_columns', 999)\n",
    "%matplotlib inline\n",
    "mpl.rcParams['figure.facecolor'] = 'white'"
   ]
  },
  {
   "cell_type": "code",
   "execution_count": null,
   "metadata": {},
   "outputs": [],
   "source": [
    "HOME_TEAM = \"England\"\n",
    "AWAY_TEAM = \"Germany\"\n",
    "PITCH_MAX_X = 105\n",
    "PITCH_MAX_Y = 68"
   ]
  },
  {
   "cell_type": "code",
   "execution_count": null,
   "metadata": {},
   "outputs": [],
   "source": [
    "def extract_json_from_html(html_path, save_output=False):\n",
    "    html_file = open(html_path, 'r')\n",
    "    html = html_file.read()\n",
    "    html_file.close()\n",
    "    regex_pattern = r'(?<=require\\.config\\.params\\[\"args\"\\].=.)[\\s\\S]*?;'\n",
    "    data_txt = re.findall(regex_pattern, html)[0]\n",
    "\n",
    "    # add quotations for json parser\n",
    "    data_txt = data_txt.replace('matchId', '\"matchId\"')\n",
    "    data_txt = data_txt.replace('matchCentreData', '\"matchCentreData\"')\n",
    "    data_txt = data_txt.replace('matchCentreEventTypeJson', '\"matchCentreEventTypeJson\"')\n",
    "    data_txt = data_txt.replace('formationIdNameMappings', '\"formationIdNameMappings\"')\n",
    "    data_txt = data_txt.replace('};', '}')\n",
    "\n",
    "    if save_output:\n",
    "        # save json data to txt\n",
    "        output_file = open(f\"{html_path}.txt\", \"wt\")\n",
    "        n = output_file.write(data_txt)\n",
    "        output_file.close()\n",
    "\n",
    "    return data_txt"
   ]
  },
  {
   "cell_type": "code",
   "execution_count": null,
   "metadata": {},
   "outputs": [],
   "source": [
    "def extract_data_from_dict(data):\n",
    "    # load data from json\n",
    "    event_types_json = data[\"matchCentreEventTypeJson\"]\n",
    "    formation_mappings = data[\"formationIdNameMappings\"]\n",
    "    events_dict = data[\"matchCentreData\"][\"events\"]\n",
    "    teams_dict = {data[\"matchCentreData\"]['home']['teamId']: data[\"matchCentreData\"]['home']['name'],\n",
    "                  data[\"matchCentreData\"]['away']['teamId']: data[\"matchCentreData\"]['away']['name']}\n",
    "    players_dict = data[\"matchCentreData\"][\"playerIdNameDictionary\"]\n",
    "    # create players dataframe\n",
    "    players_home_df = pd.DataFrame(data[\"matchCentreData\"]['home']['players'])\n",
    "    players_home_df[\"teamId\"] = data[\"matchCentreData\"]['home']['teamId']\n",
    "    players_away_df = pd.DataFrame(data[\"matchCentreData\"]['away']['players'])\n",
    "    players_away_df[\"teamId\"] = data[\"matchCentreData\"]['away']['teamId']\n",
    "    players_df = pd.concat([players_home_df, players_away_df])\n",
    "    players_ids = data[\"matchCentreData\"][\"playerIdNameDictionary\"]\n",
    "    return events_dict, players_df, teams_dict"
   ]
  },
  {
   "cell_type": "code",
   "execution_count": null,
   "metadata": {},
   "outputs": [],
   "source": [
    "match_html_path = './reasources/htmls/England 2-0 Germany - European Championship 2020 Live.html'\n",
    "json_data_txt = extract_json_from_html(match_html_path)"
   ]
  },
  {
   "cell_type": "code",
   "execution_count": null,
   "metadata": {},
   "outputs": [],
   "source": [
    "data = json.loads(json_data_txt)\n",
    "events_dict, players_df, teams_dict = extract_data_from_dict(data)"
   ]
  },
  {
   "cell_type": "code",
   "execution_count": null,
   "metadata": {},
   "outputs": [],
   "source": [
    "teams_dict"
   ]
  },
  {
   "cell_type": "code",
   "execution_count": null,
   "metadata": {},
   "outputs": [],
   "source": [
    "players_df.head()"
   ]
  },
  {
   "cell_type": "code",
   "execution_count": null,
   "metadata": {},
   "outputs": [],
   "source": [
    "df = pd.DataFrame(events_dict)\n",
    "df.head()"
   ]
  },
  {
   "cell_type": "code",
   "execution_count": null,
   "metadata": {},
   "outputs": [],
   "source": [
    "df.columns"
   ]
  },
  {
   "cell_type": "code",
   "execution_count": null,
   "metadata": {},
   "outputs": [],
   "source": [
    "df = pd.DataFrame(events_dict)\n",
    "\n",
    "df[\"eventType\"] = df.apply(lambda row: row[\"type\"][\"displayName\"], axis=1)\n",
    "df[\"outcomeType\"] = df.apply(lambda row: row[\"outcomeType\"][\"displayName\"], axis=1)\n",
    "df[\"half\"] = df.apply(lambda row: row[\"period\"][\"displayName\"], axis=1)\n",
    "\n",
    "df[\"x\"] = df[\"x\"].apply(lambda row: row / 100 * PITCH_MAX_X)\n",
    "df[\"endX\"] = df[\"endX\"].apply(lambda row: row / 100 * PITCH_MAX_X)\n",
    "df[\"y\"] = df[\"y\"].apply(lambda row: row / 100 * PITCH_MAX_Y)\n",
    "df[\"endY\"] = df[\"endY\"].apply(lambda row: row / 100 * PITCH_MAX_Y)\n",
    "\n",
    "df[\"time\"] = df[\"minute\"] + df[\"second\"] / 100\n",
    "\n",
    "df.replace(teams_dict, inplace=True)\n",
    "\n",
    "recivers= []\n",
    "for idx, row in df.iterrows():\n",
    "    if row[\"eventType\"] == \"Pass\" and row[\"outcomeType\"] == \"Successful\":\n",
    "        player_team = players_df[players_df.playerId == row[\"playerId\"]][\"teamId\"].item()\n",
    "        try:\n",
    "            reciver_team = players_df[players_df.playerId == df.iloc[idx+1, 14]][\"teamId\"].item()\n",
    "        except ValueError:\n",
    "            reciver_team = 0\n",
    "        # print(player_team, reciver_team)\n",
    "        if player_team == reciver_team:\n",
    "            recivers.append(df.iloc[idx+1, 14])\n",
    "        else:\n",
    "            recivers.append(np.nan)\n",
    "    else:\n",
    "        recivers.append(np.nan)\n",
    "df[\"reciverId\"] = recivers\n",
    "\n",
    "df.drop(columns=[\"id\", \"period\", \"type\", \"minute\", \"second\"], inplace=True)\n",
    "# TODO change columns order\n",
    "df.head()"
   ]
  },
  {
   "cell_type": "code",
   "execution_count": null,
   "metadata": {},
   "outputs": [],
   "source": [
    "FIRST_HOME_SUB = df[(df.eventType == 'SubstitutionOn') & (df.teamId == HOME_TEAM)][\"time\"].head(1).item()\n",
    "FIRST_AWAY_SUB = df[(df.eventType == 'SubstitutionOn') & (df.teamId == AWAY_TEAM)][\"time\"].head(1).item()"
   ]
  },
  {
   "cell_type": "code",
   "execution_count": null,
   "metadata": {},
   "outputs": [],
   "source": [
    "def get_value_from_qualifiers(row, key):\n",
    "    for d in row:\n",
    "        if d[\"type\"][\"displayName\"] == key:\n",
    "            return d[\"value\"]\n",
    "    return np.nan"
   ]
  },
  {
   "cell_type": "code",
   "execution_count": null,
   "metadata": {},
   "outputs": [],
   "source": [
    "passes = df.loc[df.index[df.eventType == \"Pass\"], [\"teamId\", \"playerId\", \"x\", \"y\", \"endX\", \"endY\", \"outcomeType\", \"half\", \"time\", \"qualifiers\"]]\n",
    "passes[\"length\"] = passes.apply(lambda row: get_value_from_qualifiers(row[\"qualifiers\"], \"Length\"), axis=1)\n",
    "passes[\"zone\"] = passes.apply(lambda row: get_value_from_qualifiers(row[\"qualifiers\"], \"Zone\"), axis=1)\n",
    "passes.drop(columns=[\"qualifiers\"], inplace=True)\n",
    "passes"
   ]
  },
  {
   "cell_type": "code",
   "execution_count": null,
   "metadata": {},
   "outputs": [],
   "source": [
    "england_passes = passes[(passes.teamId == HOME_TEAM)]\n",
    "england_passes"
   ]
  },
  {
   "cell_type": "code",
   "execution_count": null,
   "metadata": {},
   "outputs": [],
   "source": [
    "plt.figure(figsize=(PITCH_MAX_X/10, PITCH_MAX_Y / 10))\n",
    "plt.xlim((0, PITCH_MAX_X))\n",
    "plt.ylim((0, PITCH_MAX_Y))\n",
    "plt.axis(\"off\")\n",
    "im = plt.imread(\"./reasources/images/football_pitch_resized.png\")\n",
    "plt.imshow(im, extent=[0, PITCH_MAX_X, 0, PITCH_MAX_Y])\n",
    "\n",
    "for idx, row in england_passes.iterrows():\n",
    "    if row[\"half\"] == \"FirstHalf\":\n",
    "        x_values = (row[\"x\"], row[\"endX\"])\n",
    "        y_values = (row[\"y\"], row[\"endY\"])\n",
    "        color = \"blue\" if row[\"outcomeType\"] == \"Successful\" else \"red\"\n",
    "        plt.plot(x_values, y_values, color=color)\n",
    "plt.show()"
   ]
  },
  {
   "cell_type": "code",
   "execution_count": null,
   "metadata": {},
   "outputs": [],
   "source": [
    "# shots = df.loc[df.index[df.eventType == \"Shot\"], [\"teamId\", \"playerId\", \"x\", \"y\", \"endX\", \"endY\", \"outcomeType\", \"half\", \"time\", \"qualifiers\"]]\n",
    "# # passes[\"length\"] = passes.apply(lambda row: get_value_from_qualifiers(row[\"qualifiers\"], \"Length\"), axis=1)\n",
    "# # passes[\"zone\"] = passes.apply(lambda row: get_value_from_qualifiers(row[\"qualifiers\"], \"Zone\"), axis=1)\n",
    "# # passes.drop(columns=[\"qualifiers\"], inplace=True)\n",
    "# shots"
   ]
  },
  {
   "cell_type": "markdown",
   "metadata": {},
   "source": [
    "England's goalkeeper passes"
   ]
  },
  {
   "cell_type": "code",
   "execution_count": null,
   "metadata": {},
   "outputs": [],
   "source": [
    "england_goalkeeper_passes = england_passes[england_passes[\"playerId\"] == 110189]\n",
    "england_goalkeeper_passes.head()"
   ]
  },
  {
   "cell_type": "code",
   "execution_count": null,
   "metadata": {},
   "outputs": [],
   "source": [
    "plt.figure(figsize=(PITCH_MAX_X / 10, PITCH_MAX_Y / 10))\n",
    "plt.xlim((0, PITCH_MAX_X))\n",
    "plt.ylim((0, PITCH_MAX_Y))\n",
    "plt.axis(\"off\")\n",
    "im = plt.imread(\"./reasources/images/football_pitch_resized.png\")\n",
    "plt.imshow(im, extent=[0, PITCH_MAX_X, 0, PITCH_MAX_Y])\n",
    "\n",
    "for idx, row in england_goalkeeper_passes.iterrows():\n",
    "    if row[\"half\"] == \"FirstHalf\":\n",
    "        x_values = (row[\"x\"], row[\"endX\"])\n",
    "        y_values = (row[\"y\"], row[\"endY\"])\n",
    "        color = \"blue\" if row[\"outcomeType\"] == \"Successful\" else \"red\"\n",
    "        plt.plot(x_values, y_values, color=color)\n",
    "plt.show()"
   ]
  },
  {
   "cell_type": "code",
   "execution_count": null,
   "metadata": {},
   "outputs": [],
   "source": [
    "avg_position = england_passes.loc[df.time < FIRST_HOME_SUB].groupby([\"playerId\"])[[\"x\", \"y\"]].mean()"
   ]
  },
  {
   "cell_type": "code",
   "execution_count": null,
   "metadata": {},
   "outputs": [],
   "source": [
    "by_player = df[(df.teamId == HOME_TEAM) & (df.eventType == \"Pass\") & (df.outcomeType == \"Successful\") & (df.time < FIRST_HOME_SUB)]\\\n",
    "            .groupby(['playerId', 'reciverId'])\\\n",
    "            .size()\\\n",
    "            .reset_index(name=\"Count\")\\\n",
    "            .pivot(index=\"playerId\", columns=\"reciverId\", values=\"Count\")\\\n",
    "            .merge(avg_position, how=\"right\", on=\"playerId\")\n",
    "by_player\n"
   ]
  },
  {
   "cell_type": "code",
   "execution_count": null,
   "metadata": {},
   "outputs": [],
   "source": [
    "plt.figure(figsize=(PITCH_MAX_X / 10, PITCH_MAX_Y / 10))\n",
    "plt.xlim((0, PITCH_MAX_X))\n",
    "plt.ylim((0, PITCH_MAX_Y))\n",
    "plt.axis(\"off\")\n",
    "im = plt.imread(\"./reasources/images/football_pitch_resized.png\")\n",
    "plt.imshow(im, extent=[0, PITCH_MAX_X, 0, PITCH_MAX_Y])\n",
    "\n",
    "for idx, row in by_player.iterrows():\n",
    "    player_circle = plt.Circle((row[\"x\"], row[\"y\"]), radius=2, color=\"r\", ec=\"white\")\n",
    "    plt.gca().add_patch(player_circle)\n",
    "\n",
    "plt.show()"
   ]
  },
  {
   "cell_type": "code",
   "execution_count": null,
   "metadata": {},
   "outputs": [],
   "source": [
    "plt.figure(figsize=(PITCH_MAX_X / 10, PITCH_MAX_Y / 10))\n",
    "plt.xlim((0, PITCH_MAX_X))\n",
    "plt.ylim((0, PITCH_MAX_Y))\n",
    "plt.axis(\"off\")\n",
    "im = plt.imread(\"./reasources/images/football_pitch_resized.png\")\n",
    "plt.imshow(im, extent=[0, PITCH_MAX_X, 0, PITCH_MAX_Y])\n",
    "\n",
    "players_id = by_player.columns[:-2]\n",
    "\n",
    "for idx, row in by_player.iterrows():\n",
    "    player_id = row.name\n",
    "    for reciver_id in players_id:\n",
    "        count = by_player.loc[player_id, reciver_id] + by_player.loc[reciver_id, player_id]\n",
    "        x_values = (by_player.loc[player_id, \"x\"], by_player.loc[reciver_id, \"x\"])\n",
    "        y_values = (by_player.loc[player_id, \"y\"], by_player.loc[reciver_id, \"y\"])\n",
    "        plt.plot(x_values, y_values, color=\"r\", linewidth=count/4)\n",
    "\n",
    "for idx, row in by_player.iterrows():\n",
    "    player_circle = plt.Circle((row[\"x\"], row[\"y\"]), radius=2, color=\"r\", ec=\"white\")\n",
    "    plt.gca().add_patch(player_circle)\n",
    "\n",
    "\n",
    "plt.show()"
   ]
  },
  {
   "cell_type": "code",
   "execution_count": null,
   "metadata": {},
   "outputs": [],
   "source": []
  }
 ],
 "metadata": {
  "kernelspec": {
   "display_name": "Python 3.10.4 64-bit ('fbref': venv)",
   "language": "python",
   "name": "python3"
  },
  "language_info": {
   "codemirror_mode": {
    "name": "ipython",
    "version": 3
   },
   "file_extension": ".py",
   "mimetype": "text/x-python",
   "name": "python",
   "nbconvert_exporter": "python",
   "pygments_lexer": "ipython3",
   "version": "3.10.4"
  },
  "orig_nbformat": 4,
  "vscode": {
   "interpreter": {
    "hash": "418bbff6445d10d48fe1dead5d6e5e708154c0d3824a644d5f3db73d40006860"
   }
  }
 },
 "nbformat": 4,
 "nbformat_minor": 2
}
