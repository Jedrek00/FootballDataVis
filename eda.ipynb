{
 "cells": [
  {
   "cell_type": "code",
   "execution_count": null,
   "metadata": {},
   "outputs": [],
   "source": [
    "import json\n",
    "import re\n",
    "import pandas as pd\n",
    "import numpy as np\n",
    "import matplotlib.pyplot as plt\n",
    "import matplotlib as mpl\n",
    "import cv2\n",
    "\n",
    "from matplotlib.gridspec import GridSpec"
   ]
  },
  {
   "cell_type": "code",
   "execution_count": null,
   "metadata": {},
   "outputs": [],
   "source": [
    "pd.set_option('display.max_columns', 999)\n",
    "%matplotlib inline\n",
    "mpl.rcParams['figure.facecolor'] = 'white'"
   ]
  },
  {
   "cell_type": "code",
   "execution_count": null,
   "metadata": {},
   "outputs": [],
   "source": [
    "HOME_TEAM = \"England\"\n",
    "AWAY_TEAM = \"Germany\"\n",
    "\n",
    "PITCH_IMG = cv2.imread(\"./reasources/images/soccer-field-resized.png\")\n",
    "PITCH_MAX_X = 570\n",
    "PITCH_MAX_Y = 333\n",
    "PITCH_MIN_X = 27\n",
    "PITCH_MIN_Y = 10"
   ]
  },
  {
   "cell_type": "code",
   "execution_count": null,
   "metadata": {},
   "outputs": [],
   "source": [
    "def extract_json_from_html(html_path, save_output=False):\n",
    "    html_file = open(html_path, 'r')\n",
    "    html = html_file.read()\n",
    "    html_file.close()\n",
    "    regex_pattern = r'(?<=require\\.config\\.params\\[\"args\"\\].=.)[\\s\\S]*?;'\n",
    "    data_txt = re.findall(regex_pattern, html)[0]\n",
    "\n",
    "    # add quotations for json parser\n",
    "    data_txt = data_txt.replace('matchId', '\"matchId\"')\n",
    "    data_txt = data_txt.replace('matchCentreData', '\"matchCentreData\"')\n",
    "    data_txt = data_txt.replace('matchCentreEventTypeJson', '\"matchCentreEventTypeJson\"')\n",
    "    data_txt = data_txt.replace('formationIdNameMappings', '\"formationIdNameMappings\"')\n",
    "    data_txt = data_txt.replace('};', '}')\n",
    "\n",
    "    if save_output:\n",
    "        # save json data to txt\n",
    "        output_file = open(f\"{html_path}.txt\", \"wt\")\n",
    "        n = output_file.write(data_txt)\n",
    "        output_file.close()\n",
    "\n",
    "    return data_txt"
   ]
  },
  {
   "cell_type": "code",
   "execution_count": null,
   "metadata": {},
   "outputs": [],
   "source": [
    "def extract_data_from_dict(data):\n",
    "    # load data from json\n",
    "    event_types_json = data[\"matchCentreEventTypeJson\"]\n",
    "    formation_mappings = data[\"formationIdNameMappings\"]\n",
    "    events_dict = data[\"matchCentreData\"][\"events\"]\n",
    "    teams_dict = {data[\"matchCentreData\"]['home']['teamId']: data[\"matchCentreData\"]['home']['name'],\n",
    "                  data[\"matchCentreData\"]['away']['teamId']: data[\"matchCentreData\"]['away']['name']}\n",
    "    players_dict = data[\"matchCentreData\"][\"playerIdNameDictionary\"]\n",
    "    # create players dataframe\n",
    "    players_home_df = pd.DataFrame(data[\"matchCentreData\"]['home']['players'])\n",
    "    players_home_df[\"teamId\"] = data[\"matchCentreData\"]['home']['teamId']\n",
    "    players_away_df = pd.DataFrame(data[\"matchCentreData\"]['away']['players'])\n",
    "    players_away_df[\"teamId\"] = data[\"matchCentreData\"]['away']['teamId']\n",
    "    players_df = pd.concat([players_home_df, players_away_df])\n",
    "    players_ids = data[\"matchCentreData\"][\"playerIdNameDictionary\"]\n",
    "    return events_dict, players_df, teams_dict"
   ]
  },
  {
   "cell_type": "code",
   "execution_count": null,
   "metadata": {},
   "outputs": [],
   "source": [
    "match_html_path = './reasources/htmls/England 2-0 Germany - European Championship 2020 Live.html'\n",
    "json_data_txt = extract_json_from_html(match_html_path)"
   ]
  },
  {
   "cell_type": "code",
   "execution_count": null,
   "metadata": {},
   "outputs": [],
   "source": [
    "data = json.loads(json_data_txt)\n",
    "events_dict, players_df, teams_dict = extract_data_from_dict(data)"
   ]
  },
  {
   "cell_type": "code",
   "execution_count": null,
   "metadata": {},
   "outputs": [],
   "source": [
    "teams_dict"
   ]
  },
  {
   "cell_type": "code",
   "execution_count": null,
   "metadata": {},
   "outputs": [],
   "source": [
    "players_df.head()"
   ]
  },
  {
   "cell_type": "code",
   "execution_count": null,
   "metadata": {},
   "outputs": [],
   "source": [
    "df = pd.DataFrame(events_dict)\n",
    "df.head()"
   ]
  },
  {
   "cell_type": "code",
   "execution_count": null,
   "metadata": {},
   "outputs": [],
   "source": [
    "df.columns"
   ]
  },
  {
   "cell_type": "code",
   "execution_count": null,
   "metadata": {},
   "outputs": [],
   "source": [
    "df = pd.DataFrame(events_dict)\n",
    "\n",
    "df[\"eventType\"] = df.apply(lambda row: row[\"type\"][\"displayName\"], axis=1)\n",
    "df[\"outcomeType\"] = df.apply(lambda row: row[\"outcomeType\"][\"displayName\"], axis=1)\n",
    "df[\"half\"] = df.apply(lambda row: row[\"period\"][\"displayName\"], axis=1)\n",
    "\n",
    "df[\"x\"] = df[\"x\"].apply(lambda row: PITCH_MIN_X + row * (PITCH_MAX_X - PITCH_MIN_X) / 99.5)\n",
    "df[\"endX\"] = df[\"endX\"].apply(lambda row: PITCH_MIN_X + row * (PITCH_MAX_X - PITCH_MIN_X) / 99.5)\n",
    "df[\"blockedX\"] = df[\"blockedX\"].apply(lambda row: PITCH_MIN_X + row * (PITCH_MAX_X - PITCH_MIN_X) / 99.5)\n",
    "df[\"y\"] = df[\"y\"].apply(lambda row: PITCH_MIN_Y + row * (PITCH_MAX_Y - PITCH_MIN_Y) / 100)\n",
    "df[\"endY\"] = df[\"endY\"].apply(lambda row: PITCH_MIN_Y + row * (PITCH_MAX_Y - PITCH_MIN_Y) / 100)\n",
    "df[\"blockedY\"] = df[\"blockedY\"].apply(lambda row: PITCH_MIN_Y + row * (PITCH_MAX_Y - PITCH_MIN_Y) / 100)\n",
    "df[\"goalMouthY\"] = df[\"goalMouthY\"].apply(lambda row: PITCH_MIN_Y + row * (PITCH_MAX_Y - PITCH_MIN_Y) / 100)\n",
    "\n",
    "df[\"time\"] = df[\"minute\"] + df[\"second\"] / 100\n",
    "\n",
    "df.replace(teams_dict, inplace=True)\n",
    "\n",
    "recivers= []\n",
    "for idx, row in df.iterrows():\n",
    "    if row[\"eventType\"] == \"Pass\" and row[\"outcomeType\"] == \"Successful\":\n",
    "        player_team = players_df[players_df.playerId == row[\"playerId\"]][\"teamId\"].item()\n",
    "        try:\n",
    "            reciver_team = players_df[players_df.playerId == df.iloc[idx+1, 14]][\"teamId\"].item()\n",
    "        except ValueError:\n",
    "            reciver_team = 0\n",
    "        # print(player_team, reciver_team)\n",
    "        if player_team == reciver_team:\n",
    "            recivers.append(df.iloc[idx+1, 14])\n",
    "        else:\n",
    "            recivers.append(np.nan)\n",
    "    else:\n",
    "        recivers.append(np.nan)\n",
    "df[\"reciverId\"] = recivers\n",
    "\n",
    "df.drop(columns=[\"id\", \"period\", \"type\", \"minute\", \"second\"], inplace=True)\n",
    "# TODO change columns order\n",
    "df.head()"
   ]
  },
  {
   "cell_type": "code",
   "execution_count": null,
   "metadata": {},
   "outputs": [],
   "source": [
    "FIRST_HOME_SUB = df[(df.eventType == 'SubstitutionOn') & (df.teamId == HOME_TEAM)][\"time\"].head(1).item()\n",
    "FIRST_AWAY_SUB = df[(df.eventType == 'SubstitutionOn') & (df.teamId == AWAY_TEAM)][\"time\"].head(1).item()"
   ]
  },
  {
   "cell_type": "code",
   "execution_count": null,
   "metadata": {},
   "outputs": [],
   "source": [
    "def get_value_from_qualifiers(row, key):\n",
    "    for d in row:\n",
    "        if d[\"type\"][\"displayName\"] == key:\n",
    "            return d[\"value\"]\n",
    "    return np.nan"
   ]
  },
  {
   "cell_type": "code",
   "execution_count": null,
   "metadata": {},
   "outputs": [],
   "source": [
    "passes = df.loc[df.index[df.eventType == \"Pass\"], [\"teamId\", \"playerId\", \"x\", \"y\", \"endX\", \"endY\", \"outcomeType\", \"half\", \"time\", \"qualifiers\"]]\n",
    "passes[\"length\"] = passes.apply(lambda row: get_value_from_qualifiers(row[\"qualifiers\"], \"Length\"), axis=1)\n",
    "passes[\"zone\"] = passes.apply(lambda row: get_value_from_qualifiers(row[\"qualifiers\"], \"Zone\"), axis=1)\n",
    "passes.drop(columns=[\"qualifiers\"], inplace=True)\n",
    "passes"
   ]
  },
  {
   "cell_type": "code",
   "execution_count": null,
   "metadata": {},
   "outputs": [],
   "source": [
    "england_passes = passes[(passes.teamId == HOME_TEAM)]\n",
    "england_passes"
   ]
  },
  {
   "cell_type": "code",
   "execution_count": null,
   "metadata": {},
   "outputs": [],
   "source": [
    "fig, ax = plt.subplots(figsize=(8,9))\n",
    "\n",
    "fig.set_facecolor(\"#313332\")\n",
    "\n",
    "ax.imshow(PITCH_IMG)\n",
    "ax.axis(\"off\")\n",
    "for idx, row in england_passes.iterrows():\n",
    "    x_values = (row[\"x\"], row[\"endX\"])\n",
    "    y_values = (row[\"y\"], row[\"endY\"])\n",
    "    color = \"green\" if row[\"outcomeType\"] == \"Successful\" else \"red\"\n",
    "    ax.plot(x_values, y_values, color=color)\n",
    "plt.show()"
   ]
  },
  {
   "cell_type": "markdown",
   "metadata": {},
   "source": [
    "England's goalkeeper passes"
   ]
  },
  {
   "cell_type": "code",
   "execution_count": null,
   "metadata": {},
   "outputs": [],
   "source": [
    "england_goalkeeper_passes = england_passes[england_passes[\"playerId\"] == 110189]\n",
    "england_goalkeeper_passes.head()"
   ]
  },
  {
   "cell_type": "code",
   "execution_count": null,
   "metadata": {},
   "outputs": [],
   "source": [
    "fig, ax = plt.subplots(figsize=(8,9))\n",
    "\n",
    "fig.set_facecolor(\"#313332\")\n",
    "\n",
    "ax.imshow(PITCH_IMG)\n",
    "ax.axis(\"off\")\n",
    "\n",
    "for idx, row in england_goalkeeper_passes.iterrows():\n",
    "    x_values = (row[\"x\"], row[\"endX\"])\n",
    "    y_values = (row[\"y\"], row[\"endY\"])\n",
    "    color = \"green\" if row[\"outcomeType\"] == \"Successful\" else \"red\"\n",
    "    ax.plot(x_values, y_values, color=color)\n",
    "plt.show()"
   ]
  },
  {
   "cell_type": "code",
   "execution_count": null,
   "metadata": {},
   "outputs": [],
   "source": [
    "avg_position = england_passes.loc[df.time < FIRST_HOME_SUB].groupby([\"playerId\"])[[\"x\", \"y\"]].mean()"
   ]
  },
  {
   "cell_type": "code",
   "execution_count": null,
   "metadata": {},
   "outputs": [],
   "source": [
    "by_player = df[(df.teamId == HOME_TEAM) & (df.eventType == \"Pass\") & (df.outcomeType == \"Successful\") & (df.time < FIRST_HOME_SUB)]\\\n",
    "            .groupby(['playerId', 'reciverId'])\\\n",
    "            .size()\\\n",
    "            .reset_index(name=\"Count\")\\\n",
    "            .pivot(index=\"playerId\", columns=\"reciverId\", values=\"Count\")\\\n",
    "            .merge(avg_position, how=\"right\", on=\"playerId\")\n",
    "by_player"
   ]
  },
  {
   "cell_type": "code",
   "execution_count": null,
   "metadata": {},
   "outputs": [],
   "source": [
    "fig, ax = plt.subplots(figsize=(8,9))\n",
    "\n",
    "fig.set_facecolor(\"#313332\")\n",
    "\n",
    "ax.imshow(PITCH_IMG)\n",
    "ax.axis(\"off\")\n",
    "\n",
    "for idx, row in by_player.iterrows():\n",
    "    player_circle = plt.Circle((row[\"x\"], row[\"y\"]), radius=7, color=\"r\", ec=\"white\")\n",
    "    ax.add_patch(player_circle)\n",
    "\n",
    "plt.show()"
   ]
  },
  {
   "cell_type": "code",
   "execution_count": null,
   "metadata": {},
   "outputs": [],
   "source": [
    "fig, ax = plt.subplots(figsize=(8,9))\n",
    "\n",
    "fig.set_facecolor(\"#313332\")\n",
    "\n",
    "ax.imshow(PITCH_IMG)\n",
    "ax.axis(\"off\")\n",
    "\n",
    "players_id = by_player.columns[:-2]\n",
    "\n",
    "for idx, row in by_player.iterrows():\n",
    "    player_id = row.name\n",
    "    for reciver_id in players_id:\n",
    "        count = by_player.loc[player_id, reciver_id] + by_player.loc[reciver_id, player_id]\n",
    "        x_values = (by_player.loc[player_id, \"x\"], by_player.loc[reciver_id, \"x\"])\n",
    "        y_values = (by_player.loc[player_id, \"y\"], by_player.loc[reciver_id, \"y\"])\n",
    "        ax.plot(x_values, y_values, color=\"r\", linewidth=count/4, zorder=1)\n",
    "\n",
    "for idx, row in by_player.iterrows():\n",
    "    player_circle = plt.Circle((row[\"x\"], row[\"y\"]), radius=7, color=\"r\", ec=\"white\", zorder=2)\n",
    "    ax.add_patch(player_circle)\n",
    "\n",
    "\n",
    "plt.show()"
   ]
  },
  {
   "cell_type": "code",
   "execution_count": null,
   "metadata": {},
   "outputs": [],
   "source": [
    "england_shots = df[(df.isShot == True) & (df.teamId == \"England\")]\n",
    "england_shots"
   ]
  },
  {
   "cell_type": "code",
   "execution_count": null,
   "metadata": {},
   "outputs": [],
   "source": [
    "\n",
    "fig, ax = plt.subplots(figsize=(8,9))\n",
    "\n",
    "fig.set_facecolor(\"#313332\")\n",
    "\n",
    "ax.imshow(PITCH_IMG)\n",
    "ax.axis(\"off\")\n",
    "for idx, row in england_shots.iterrows():\n",
    "    x_values = (row[\"x\"], PITCH_MAX_X)\n",
    "    y_values = (row[\"y\"], row[\"goalMouthY\"])\n",
    "    color = \"green\" if row[\"eventType\"] == \"Goal\" else \"red\"\n",
    "    ax.plot(x_values, y_values, color=color)\n",
    "plt.show()"
   ]
  },
  {
   "cell_type": "code",
   "execution_count": null,
   "metadata": {},
   "outputs": [],
   "source": [
    "shots_x = []\n",
    "shots_y = []\n",
    "colors = []\n",
    "fig, ax = plt.subplots()\n",
    "fig.set_facecolor(\"#313332\")\n",
    "goal_img = cv2.imread(\"./reasources/images/goal.jpg\")\n",
    "a, b = int(PITCH_MIN_Y + (PITCH_MAX_Y - PITCH_MIN_Y) * 31/68), int(PITCH_MAX_Y - (PITCH_MAX_Y - PITCH_MIN_Y) * 31/68)\n",
    "ax.imshow(goal_img, extent=[a - 3, b + 3, 0, 20])\n",
    "for idx, row in england_shots.iterrows():\n",
    "    if row[\"eventType\"] != \"MissedShots\":\n",
    "        shots_x.append(row.goalMouthY)\n",
    "        shots_y.append(4 + row.goalMouthZ * 12 / 100)\n",
    "        if row.eventType == \"Goal\":\n",
    "            colors.append(\"green\")\n",
    "        else:\n",
    "            colors.append(\"red\")\n",
    "ax.scatter(shots_x, shots_y, c=colors)\n",
    "ax.axis(\"off\")\n",
    "plt.show()"
   ]
  },
  {
   "cell_type": "code",
   "execution_count": null,
   "metadata": {},
   "outputs": [],
   "source": [
    "DECLAN_RICE = 332325\n",
    "dr_events = df[df.playerId == DECLAN_RICE]\n",
    "dr_events[\"eventType\"].unique()"
   ]
  },
  {
   "cell_type": "code",
   "execution_count": null,
   "metadata": {},
   "outputs": [],
   "source": [
    "idx_to_drop = dr_events[dr_events.eventType.isin(['Card', 'SubstitutionOff'])].index\n",
    "dr_events.drop(idx_to_drop, inplace=True)\n",
    "dr_events[\"eventCategory\"] = dr_events.apply(lambda row: get_event_category(row.eventType, row.outcomeType), axis=1)\n",
    "dr_events[[\"x\", \"y\"]].describe()"
   ]
  },
  {
   "cell_type": "code",
   "execution_count": null,
   "metadata": {},
   "outputs": [],
   "source": [
    "fig, ax = plt.subplots(figsize=(8,9))\n",
    "\n",
    "fig.set_facecolor(\"#313332\")\n",
    "markers = {\"Defensive action\": \"o\", \"Action with ball\": \"X\", \"Challenge\": \"s\", \"Ball losses\": \"d\"}\n",
    "\n",
    "ax.imshow(PITCH_IMG)\n",
    "ax.axis(\"off\")\n",
    "for key in markers.keys():\n",
    "    ax.scatter(dr_events[dr_events.eventCategory == key][\"x\"], dr_events[dr_events.eventCategory == key][\"y\"], s=70, facecolors='none', edgecolors='r', alpha=0.4, marker=markers[key], label=key)\n",
    "ax.legend(markers)\n",
    "\n",
    "plt.show()"
   ]
  },
  {
   "cell_type": "code",
   "execution_count": null,
   "metadata": {},
   "outputs": [],
   "source": [
    "def get_event_category(event_type, event_outcome):\n",
    "    if event_type in ['Clearance', 'BallRecovery', 'Interception', 'Save']:\n",
    "        return \"Defensive action\"\n",
    "    elif event_type in ['BallTouch', 'TakeOn'] or (event_type == 'Pass' and event_outcome == 'Successful'):\n",
    "        return \"Action with ball\"\n",
    "    elif event_type in ['Tackle', 'Challenge', 'Foul']:\n",
    "        return \"Challenge\"\n",
    "    else:\n",
    "        return \"Ball losses\""
   ]
  },
  {
   "cell_type": "code",
   "execution_count": null,
   "metadata": {},
   "outputs": [],
   "source": [
    "def plot_player_passes(ax: mpl.axes.Axes, df: pd.DataFrame, player_id: int):\n",
    "    ax.set_xlim((0, PITCH_MAX_X))\n",
    "    ax.set_ylim((0, PITCH_MAX_Y))\n",
    "    ax.axis(\"off\")\n",
    "    im = plt.imread(\"./reasources/images/football_pitch_resized.png\")\n",
    "    ax.imshow(im, extent=[0, PITCH_MAX_X, 0, PITCH_MAX_Y])\n",
    "    title = players_df[players_df.playerId == player_id][\"name\"].item()\n",
    "    ax.set_title(title)\n",
    "\n",
    "    df = df[df[\"playerId\"] == player_id]\n",
    "\n",
    "    for idx, row in df.iterrows():\n",
    "        x_values = (row[\"x\"], row[\"endX\"])\n",
    "        y_values = (row[\"y\"], row[\"endY\"])\n",
    "        color = \"blue\" if row[\"outcomeType\"] == \"Successful\" else \"red\"\n",
    "        ax.plot(x_values, y_values, color=color)\n",
    "    return ax"
   ]
  },
  {
   "cell_type": "code",
   "execution_count": null,
   "metadata": {},
   "outputs": [],
   "source": [
    "players_ids = england_passes.groupby([\"playerId\"]).size().sort_values(ascending=False).reset_index().playerId.to_list()\n",
    "players_ids"
   ]
  },
  {
   "cell_type": "code",
   "execution_count": null,
   "metadata": {},
   "outputs": [],
   "source": [
    "fig = plt.figure(figsize=(8, 6), dpi=200)\n",
    "nrows = 4\n",
    "ncols = 3\n",
    "\n",
    "gspec = GridSpec(ncols=ncols, nrows=nrows, figure=fig, hspace=0.3)\n",
    "plot_counter = 0\n",
    "for row in range(nrows):\n",
    "    for col in range(ncols):\n",
    "        ax = plt.subplot(\n",
    "                gspec[row, col],\n",
    "                facecolor = \"#EFE9E6\"\n",
    "            )\n",
    "        player_id = players_ids[row + col * ncols]\n",
    "        plot_player_passes(ax, england_passes, player_id)"
   ]
  },
  {
   "cell_type": "code",
   "execution_count": null,
   "metadata": {},
   "outputs": [],
   "source": []
  }
 ],
 "metadata": {
  "kernelspec": {
   "display_name": "Python 3.10.4 ('fbref')",
   "language": "python",
   "name": "python3"
  },
  "language_info": {
   "codemirror_mode": {
    "name": "ipython",
    "version": 3
   },
   "file_extension": ".py",
   "mimetype": "text/x-python",
   "name": "python",
   "nbconvert_exporter": "python",
   "pygments_lexer": "ipython3",
   "version": "3.10.4"
  },
  "orig_nbformat": 4,
  "vscode": {
   "interpreter": {
    "hash": "404754a2e30e031653070610f6334ffed4427c911b7cf0e26c27829c0b0ff544"
   }
  }
 },
 "nbformat": 4,
 "nbformat_minor": 2
}
