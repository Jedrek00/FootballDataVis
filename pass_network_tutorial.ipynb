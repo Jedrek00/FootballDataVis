{
 "cells": [
  {
   "cell_type": "markdown",
   "id": "4fea70e0-f664-47e2-894b-4a9f3098d420",
   "metadata": {},
   "source": [
    "# Pass networks from Whoscored"
   ]
  },
  {
   "cell_type": "markdown",
   "id": "1deea75a-986c-4b20-ac7e-1c47939cc640",
   "metadata": {},
   "source": [
    "Read the blogpost: https://www.dzialowski.eu/football-data-visualisations/"
   ]
  },
  {
   "cell_type": "markdown",
   "id": "093bbb95-bf04-446f-bd33-e5ae537b5ad6",
   "metadata": {},
   "source": [
    "## Getting the match data from Whoscored"
   ]
  },
  {
   "cell_type": "code",
   "execution_count": null,
   "id": "4a1719ed-050a-43c3-b804-b62b3aceb2bd",
   "metadata": {},
   "outputs": [],
   "source": [
    "import json\n",
    "import re\n",
    "import pandas as pd"
   ]
  },
  {
   "cell_type": "code",
   "execution_count": null,
   "id": "b95ed2ae-c9bb-42a6-9f53-4dffefbffd2a",
   "metadata": {},
   "outputs": [],
   "source": [
    "def extract_json_from_html(html_path, save_output=False):\n",
    "    html_file = open(html_path, 'r')\n",
    "    html = html_file.read()\n",
    "    html_file.close()\n",
    "    regex_pattern = r'(?<=require\\.config\\.params\\[\"args\"\\].=.)[\\s\\S]*?;'\n",
    "    data_txt = re.findall(regex_pattern, html)[0]\n",
    "\n",
    "    # add quotations for json parser\n",
    "    data_txt = data_txt.replace('matchId', '\"matchId\"')\n",
    "    data_txt = data_txt.replace('matchCentreData', '\"matchCentreData\"')\n",
    "    data_txt = data_txt.replace('matchCentreEventTypeJson', '\"matchCentreEventTypeJson\"')\n",
    "    data_txt = data_txt.replace('formationIdNameMappings', '\"formationIdNameMappings\"')\n",
    "    data_txt = data_txt.replace('};', '}')\n",
    "\n",
    "    if save_output:\n",
    "        # save json data to txt\n",
    "        output_file = open(f\"{html_path}.txt\", \"wt\")\n",
    "        n = output_file.write(data_txt)\n",
    "        output_file.close()\n",
    "\n",
    "    return data_txt"
   ]
  },
  {
   "cell_type": "code",
   "execution_count": null,
   "id": "509226cf-7744-4010-b033-81fa5f298970",
   "metadata": {},
   "outputs": [],
   "source": [
    "def extract_data_from_dict(data):\n",
    "    # load data from json\n",
    "    event_types_json = data[\"matchCentreEventTypeJson\"]\n",
    "    formation_mappings = data[\"formationIdNameMappings\"]\n",
    "    events_dict = data[\"matchCentreData\"][\"events\"]\n",
    "    teams_dict = {data[\"matchCentreData\"]['home']['teamId']: data[\"matchCentreData\"]['home']['name'],\n",
    "                  data[\"matchCentreData\"]['away']['teamId']: data[\"matchCentreData\"]['away']['name']}\n",
    "    players_dict = data[\"matchCentreData\"][\"playerIdNameDictionary\"]\n",
    "    # create players dataframe\n",
    "    players_home_df = pd.DataFrame(data[\"matchCentreData\"]['home']['players'])\n",
    "    players_home_df[\"teamId\"] = data[\"matchCentreData\"]['home']['teamId']\n",
    "    players_away_df = pd.DataFrame(data[\"matchCentreData\"]['away']['players'])\n",
    "    players_away_df[\"teamId\"] = data[\"matchCentreData\"]['away']['teamId']\n",
    "    players_df = pd.concat([players_home_df, players_away_df])\n",
    "    players_ids = data[\"matchCentreData\"][\"playerIdNameDictionary\"]\n",
    "    return events_dict, players_df, teams_dict"
   ]
  },
  {
   "cell_type": "code",
   "execution_count": null,
   "id": "aa39adbe-557c-4e82-998f-eedfd5d64565",
   "metadata": {},
   "outputs": [],
   "source": [
    "match_html_path = './England 2-0 Germany - European Championship 2020 Live.html'\n",
    "json_data_txt = extract_json_from_html(match_html_path)\n",
    "data = json.loads(json_data_txt)\n",
    "events_dict, players_df, teams_dict = extract_data_from_dict(data)"
   ]
  },
  {
   "cell_type": "code",
   "execution_count": null,
   "id": "ebfd659b-ce14-460e-9a7b-c91aafedb364",
   "metadata": {},
   "outputs": [],
   "source": [
    "players_df.head()"
   ]
  },
  {
   "cell_type": "markdown",
   "id": "2ab24282-239a-40ce-b879-44f8baf890e0",
   "metadata": {},
   "source": [
    "## Preparing the data"
   ]
  },
  {
   "cell_type": "markdown",
   "id": "67b5cdcb-709e-4984-bdbc-5831cb85e85f",
   "metadata": {},
   "source": [
    "### Passes dataframe"
   ]
  },
  {
   "cell_type": "code",
   "execution_count": null,
   "id": "891ac5de-291e-45d7-912b-3e34d21fc916",
   "metadata": {},
   "outputs": [],
   "source": [
    "def get_passes_df(events_dict):\n",
    "    df = pd.DataFrame(events_dict)\n",
    "    df['eventType'] = df.apply(lambda row: row['type']['displayName'], axis=1)\n",
    "    df['outcomeType'] = df.apply(lambda row: row['outcomeType']['displayName'], axis=1)\n",
    "\n",
    "    # create receiver column based on the next event\n",
    "    # this will be correct only for successfull passes\n",
    "    df[\"receiver\"] = df[\"playerId\"].shift(-1)\n",
    "\n",
    "    # filter only passes\n",
    "    passes_ids = df.index[df['eventType'] == 'Pass']\n",
    "    df_passes = df.loc[\n",
    "        passes_ids, [\"id\", \"x\", \"y\", \"endX\", \"endY\", \"teamId\", \"playerId\", \"receiver\", \"eventType\", \"outcomeType\"]]\n",
    "\n",
    "    return df_passes"
   ]
  },
  {
   "cell_type": "code",
   "execution_count": null,
   "id": "ae9ab160",
   "metadata": {},
   "outputs": [],
   "source": [
    "df = pd.DataFrame(events_dict)\n",
    "df['eventType'] = df.apply(lambda row: row['type']['displayName'], axis=1)\n",
    "df['outcomeType'] = df.apply(lambda row: row['outcomeType']['displayName'], axis=1)"
   ]
  },
  {
   "cell_type": "code",
   "execution_count": null,
   "id": "75c0286c",
   "metadata": {},
   "outputs": [],
   "source": [
    "df[\"eventType\"].unique()"
   ]
  },
  {
   "cell_type": "code",
   "execution_count": null,
   "id": "5d3e0dde-ae07-4190-9bb1-3741ca2371a2",
   "metadata": {},
   "outputs": [],
   "source": [
    "passes_df = get_passes_df(events_dict)\n",
    "passes_df.head()"
   ]
  },
  {
   "cell_type": "code",
   "execution_count": null,
   "id": "9aea9d21-85e5-4e4c-a0e1-1f0a6f8a2891",
   "metadata": {},
   "outputs": [],
   "source": [
    "def get_passes_between_df(team_id, passes_df, players_df):\n",
    "    # filter for only team\n",
    "    passes_df = passes_df[passes_df[\"teamId\"] == team_id]\n",
    "\n",
    "    # add column with first eleven players only\n",
    "    passes_df = passes_df.merge(players_df[[\"playerId\", \"isFirstEleven\"]], on='playerId', how='left')\n",
    "    # filter on first eleven column\n",
    "    passes_df = passes_df[passes_df['isFirstEleven'] == True]\n",
    "\n",
    "    # calculate mean positions for players\n",
    "    average_locs_and_count_df = (passes_df.groupby('playerId')\n",
    "                                 .agg({'x': ['mean'], 'y': ['mean', 'count']}))\n",
    "    average_locs_and_count_df.columns = ['x', 'y', 'count']\n",
    "    average_locs_and_count_df = average_locs_and_count_df.merge(players_df[['playerId', 'name', 'shirtNo', 'position']],\n",
    "                                                                on='playerId', how='left')\n",
    "    average_locs_and_count_df = average_locs_and_count_df.set_index('playerId')\n",
    "\n",
    "    # calculate the number of passes between each position (using min/ max so we get passes both ways)\n",
    "    passes_player_ids_df = passes_df.loc[:, ['id', 'playerId', 'receiver', 'teamId']]\n",
    "    passes_player_ids_df['pos_max'] = (passes_player_ids_df[['playerId', 'receiver']].max(axis='columns'))\n",
    "    passes_player_ids_df['pos_min'] = (passes_player_ids_df[['playerId', 'receiver']].min(axis='columns'))\n",
    "\n",
    "    # get passes between each player\n",
    "    passes_between_df = passes_player_ids_df.groupby(['pos_min', 'pos_max']).id.count().reset_index()\n",
    "    passes_between_df.rename({'id': 'pass_count'}, axis='columns', inplace=True)\n",
    "\n",
    "    # add on the location of each player so we have the start and end positions of the lines\n",
    "    passes_between_df = passes_between_df.merge(average_locs_and_count_df, left_on='pos_min', right_index=True)\n",
    "    passes_between_df = passes_between_df.merge(average_locs_and_count_df, left_on='pos_max', right_index=True,\n",
    "                                                suffixes=['', '_end'])\n",
    "    return passes_between_df, average_locs_and_count_df"
   ]
  },
  {
   "cell_type": "code",
   "execution_count": null,
   "id": "26dad8cb-d5c4-4da6-b09a-e39c140351f3",
   "metadata": {},
   "outputs": [],
   "source": [
    "home_team_id = list(teams_dict.keys())[0]  # selected home team\n",
    "home_passes_between_df, home_average_locs_and_count_df = get_passes_between_df(home_team_id, passes_df, players_df)"
   ]
  },
  {
   "cell_type": "code",
   "execution_count": null,
   "id": "dfc42ee8-9153-4b0b-8fb3-e9a2b35b65d6",
   "metadata": {},
   "outputs": [],
   "source": [
    "away_team_id = list(teams_dict.keys())[1]  # selected home team\n",
    "away_passes_between_df, away_average_locs_and_count_df = get_passes_between_df(away_team_id, passes_df, players_df)"
   ]
  },
  {
   "cell_type": "markdown",
   "id": "4e2f78f9-88bf-4bb2-a43a-826ab7def22b",
   "metadata": {},
   "source": [
    "## Visualisation"
   ]
  },
  {
   "cell_type": "code",
   "execution_count": null,
   "id": "8728ad3a-d9ad-49d8-83cf-7c5f532648cb",
   "metadata": {},
   "outputs": [],
   "source": [
    "import matplotlib.pyplot as plt\n",
    "import numpy as np\n",
    "from matplotlib.colors import to_rgba\n",
    "from mplsoccer import Pitch, FontManager"
   ]
  },
  {
   "cell_type": "code",
   "execution_count": null,
   "id": "e6fcf7fe-189c-46a6-9880-e1d9344cb563",
   "metadata": {},
   "outputs": [],
   "source": [
    "def pass_network_visualization(ax, passes_between_df, average_locs_and_count_df, flipped=False):\n",
    "    MAX_LINE_WIDTH = 10\n",
    "    MAX_MARKER_SIZE = 3000\n",
    "    passes_between_df['width'] = (passes_between_df.pass_count / passes_between_df.pass_count.max() *\n",
    "                                  MAX_LINE_WIDTH)\n",
    "    average_locs_and_count_df['marker_size'] = (average_locs_and_count_df['count']\n",
    "                                                / average_locs_and_count_df['count'].max() * MAX_MARKER_SIZE)\n",
    "\n",
    "    MIN_TRANSPARENCY = 0.3\n",
    "    color = np.array(to_rgba('#507293'))\n",
    "    color = np.tile(color, (len(passes_between_df), 1))\n",
    "    c_transparency = passes_between_df.pass_count / passes_between_df.pass_count.max()\n",
    "    c_transparency = (c_transparency * (1 - MIN_TRANSPARENCY)) + MIN_TRANSPARENCY\n",
    "    color[:, 3] = c_transparency\n",
    "\n",
    "    pitch = Pitch(pitch_type='opta', pitch_color='#0D182E', line_color='#5B6378')\n",
    "    pitch.draw(ax=ax)\n",
    "\n",
    "    if flipped:\n",
    "        passes_between_df['x'] = pitch.dim.right - passes_between_df['x']\n",
    "        passes_between_df['y'] = pitch.dim.right - passes_between_df['y']\n",
    "        passes_between_df['x_end'] = pitch.dim.right - passes_between_df['x_end']\n",
    "        passes_between_df['y_end'] = pitch.dim.right - passes_between_df['y_end']\n",
    "        average_locs_and_count_df['x'] = pitch.dim.right - average_locs_and_count_df['x']\n",
    "        average_locs_and_count_df['y'] = pitch.dim.right - average_locs_and_count_df['y']\n",
    "\n",
    "    pass_lines = pitch.lines(passes_between_df.x, passes_between_df.y,\n",
    "                             passes_between_df.x_end, passes_between_df.y_end, lw=passes_between_df.width,\n",
    "                             color=color, zorder=1, ax=ax)\n",
    "    pass_nodes = pitch.scatter(average_locs_and_count_df.x, average_locs_and_count_df.y,\n",
    "                               s=average_locs_and_count_df.marker_size, marker='h',\n",
    "                               color='#FEFEFC', edgecolors='#FEFEFC', linewidth=1, alpha=1, ax=ax)\n",
    "    for index, row in average_locs_and_count_df.iterrows():\n",
    "        player_name = row[\"name\"].split()\n",
    "        player_initials = \"\".join(word[0] for word in player_name).upper()\n",
    "        pitch.annotate(player_initials, xy=(row.x, row.y), c='#C4C4C4', va='center',\n",
    "                       ha='center', size=14, ax=ax)\n",
    "\n",
    "    return pitch"
   ]
  },
  {
   "cell_type": "code",
   "execution_count": null,
   "id": "eee5bcc4-ec52-4d46-b4cb-6a2550401aa3",
   "metadata": {},
   "outputs": [],
   "source": [
    "# create plot\n",
    "fig, axes = plt.subplots(1, 2, figsize=(15, 8))\n",
    "plt.subplots_adjust(left=None, bottom=None, right=None, top=None, wspace=None, hspace=None)\n",
    "axes = axes.flat\n",
    "plt.tight_layout()\n",
    "fig.set_facecolor(\"#0D182E\")\n",
    "\n",
    "# plot variables\n",
    "main_color = '#FBFAF5'\n",
    "font_bold = FontManager((\"https://github.com/google/fonts/blob/main/apache/roboto/static/\"\n",
    "                         \"RobotoCondensed-Medium.ttf?raw=true\"))\n",
    "\n",
    "# home team viz\n",
    "pass_network_visualization(axes[0], home_passes_between_df, home_average_locs_and_count_df)\n",
    "axes[0].set_title(teams_dict[home_team_id], color=main_color, fontsize=14, fontproperties=font_bold.prop)\n",
    "\n",
    "# away team viz\n",
    "pass_network_visualization(axes[1], away_passes_between_df, away_average_locs_and_count_df, flipped=True)\n",
    "axes[1].set_title(teams_dict[away_team_id], color=main_color, fontsize=14, fontproperties=font_bold.prop)\n",
    "\n",
    "plt.suptitle(f\"{teams_dict[home_team_id]} - {teams_dict[away_team_id]}\", color=main_color, fontsize=42, fontproperties=font_bold.prop)\n",
    "subtitle = \"Passing networks and top combinations by volume of passes\"\n",
    "plt.text(-10, 120, subtitle, horizontalalignment='center', verticalalignment='center', color=main_color, fontsize=14, fontproperties=font_bold.prop)\n",
    "plt.savefig('output.png', bbox_inches='tight')\n",
    "plt.show()"
   ]
  }
 ],
 "metadata": {
  "kernelspec": {
   "display_name": "Python 3.10.4 ('fbref')",
   "language": "python",
   "name": "python3"
  },
  "language_info": {
   "codemirror_mode": {
    "name": "ipython",
    "version": 3
   },
   "file_extension": ".py",
   "mimetype": "text/x-python",
   "name": "python",
   "nbconvert_exporter": "python",
   "pygments_lexer": "ipython3",
   "version": "3.10.4"
  },
  "vscode": {
   "interpreter": {
    "hash": "404754a2e30e031653070610f6334ffed4427c911b7cf0e26c27829c0b0ff544"
   }
  }
 },
 "nbformat": 4,
 "nbformat_minor": 5
}
